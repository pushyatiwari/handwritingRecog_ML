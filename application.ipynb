{
 "cells": [
  {
   "cell_type": "code",
   "execution_count": 1,
   "metadata": {},
   "outputs": [],
   "source": [
    "import cv2\n",
    "from tensorflow.keras.models import load_model\n",
    "import numpy as np\n",
    "from collections import deque"
   ]
  },
  {
   "cell_type": "code",
   "execution_count": 2,
   "metadata": {},
   "outputs": [],
   "source": [
    "model1 = load_model('devanagari_model.h5')\n"
   ]
  },
  {
   "cell_type": "code",
   "execution_count": 3,
   "metadata": {},
   "outputs": [],
   "source": [
    "letter_count = {0: 'CHECK', 1: '01_ka', 2: '02_kha', 3: '03_ga', 4: '04_gha', 5: '05_kna', 6: 'character_06_cha',\n",
    "                    7: '07_chha', 8: '08_ja', 9: '09_jha', 10: '10_yna',\n",
    "                    11: '11_taamatar',\n",
    "                    12: '12_thaa', 13: '13_daa', 14: '14_dhaa', 15: '15_adna', 16: '16_tabala', 17: '17_tha',\n",
    "                    18: '18_da',\n",
    "                    19: '19_dha', 20: '20_na', 21: '21_pa', 22: '22_pha',\n",
    "                    23: '23_ba',\n",
    "                    24: '24_bha', 25: '25_ma', 26: '26_yaw', 27: '27_ra', 28: '28_la', 29: '29_waw', 30: '30_motosaw',\n",
    "                    31: '31_petchiryakha',32: '32_patalosaw', 33: '33_ha',\n",
    "                    34: '34_chhya', 35: '35_tra', 36: '36_gya', 37: 'CHECK'}"
   ]
  },
  {
   "cell_type": "code",
   "execution_count": 4,
   "metadata": {},
   "outputs": [],
   "source": [
    "def keras_predict(model, image):\n",
    "    processed = keras_process_image(image)\n",
    "    print(\"processed: \" + str(processed.shape))\n",
    "    pred_probab = model.predict(processed)[0]\n",
    "    pred_class = list(pred_probab).index(max(pred_probab))\n",
    "    return max(pred_probab), pred_class\n",
    "\n",
    "\n",
    "def keras_process_image(img):\n",
    "    image_x = 32\n",
    "    image_y = 32\n",
    "    img = cv2.resize(img, (image_x, image_y))\n",
    "    img = np.array(img, dtype=np.float32)\n",
    "    img = np.reshape(img, (-1, image_x, image_y, 1))\n",
    "    return img"
   ]
  },
  {
   "cell_type": "code",
   "execution_count": 5,
   "metadata": {},
   "outputs": [
    {
     "data": {
      "text/plain": [
       "'4.1.2'"
      ]
     },
     "execution_count": 5,
     "metadata": {},
     "output_type": "execute_result"
    }
   ],
   "source": [
    "cv2.__version__\n"
   ]
  },
  {
   "cell_type": "code",
   "execution_count": 6,
   "metadata": {},
   "outputs": [],
   "source": [
    "blueLower = np.array([100, 60, 60])\n",
    "blueUpper = np.array([255, 255, 255])\n",
    "\n",
    "\n",
    "kernel = np.ones((5, 5), np.uint8)\n",
    "\n",
    "blackboard = np.zeros((480,640,3), dtype=np.uint8)\n",
    "alphabet = np.zeros((200, 200, 3), dtype=np.uint8)\n",
    "\n",
    "points = deque(maxlen=512)\n",
    "\n",
    "index = 0"
   ]
  },
  {
   "cell_type": "code",
   "execution_count": 10,
   "metadata": {
    "scrolled": true
   },
   "outputs": [
    {
     "name": "stdout",
     "output_type": "stream",
     "text": [
      "processed: (1, 32, 32, 1)\n",
      "16 0.42698237\n",
      "processed: (1, 32, 32, 1)\n",
      "2 0.24205132\n",
      "processed: (1, 32, 32, 1)\n",
      "9 0.2436364\n",
      "processed: (1, 32, 32, 1)\n",
      "1 0.8451433\n",
      "processed: (1, 32, 32, 1)\n",
      "34 0.5284825\n",
      "processed: (1, 32, 32, 1)\n",
      "16 0.13476244\n",
      "processed: (1, 32, 32, 1)\n",
      "20 0.2536798\n",
      "processed: (1, 32, 32, 1)\n",
      "2 0.22555892\n",
      "processed: (1, 32, 32, 1)\n",
      "19 0.2658372\n",
      "processed: (1, 32, 32, 1)\n",
      "33 0.18594147\n",
      "processed: (1, 32, 32, 1)\n",
      "1 0.36898658\n",
      "processed: (1, 32, 32, 1)\n",
      "18 0.3929831\n",
      "processed: (1, 32, 32, 1)\n",
      "27 0.3238903\n"
     ]
    }
   ],
   "source": [
    "    camera = cv2.VideoCapture(0)\n",
    "    Lower_green = np.array([110, 50, 50])\n",
    "    Upper_green = np.array([130, 255, 255])\n",
    "\n",
    "    pred_class=0\n",
    "    pts = deque(maxlen=512)\n",
    "    blackboard = np.zeros((480, 640, 3), dtype=np.uint8)\n",
    "    digit = np.zeros((200, 200, 3), dtype=np.uint8)\n",
    "    while True:\n",
    "        (grabbed, frame) = camera.read()\n",
    "        frame = cv2.flip(frame, 1)\n",
    "        hsv = cv2.cvtColor(frame, cv2.COLOR_BGR2HSV)\n",
    "        gray = cv2.cvtColor(frame, cv2.COLOR_BGR2GRAY)\n",
    "\n",
    "        blueMask = cv2.inRange(hsv, blueLower, blueUpper)\n",
    "        blueMask = cv2.erode(blueMask, kernel, iterations=2)\n",
    "        blueMask = cv2.morphologyEx(blueMask, cv2.MORPH_OPEN, kernel)\n",
    "        blueMask = cv2.dilate(blueMask, kernel, iterations=1)\n",
    "#         thresh = cv2.threshold(blueMask, 0, 255, cv2.THRESH_BINARY + cv2.THRESH_OTSU)[1]\n",
    "        \n",
    "        \n",
    "#         imgHSV = cv2.cvtColor(frame, cv2.COLOR_BGR2HSV)\n",
    "#         mask = cv2.inRange(imgHSV, blueLower, blueUpper)\n",
    "#         blur = cv2.medianBlur(mask, 15)\n",
    "#         blur = cv2.GaussianBlur(blur, (5, 5), 0)\n",
    "#         thresh = cv2.threshold(blur, 0, 255, cv2.THRESH_BINARY + cv2.THRESH_OTSU)[1]\n",
    "#         cnts = cv2.findContours(thresh.copy(), cv2.RETR_TREE, cv2.CHAIN_APPROX_NONE)[1]\n",
    "        \n",
    "\n",
    "        (cnts, _) = cv2.findContours(blueMask.copy(), cv2.RETR_EXTERNAL,\n",
    "                                     cv2.CHAIN_APPROX_SIMPLE)\n",
    "\n",
    "        center = None\n",
    "\n",
    "        if len(cnts) > 0:\n",
    "            cnt = sorted(cnts, key = cv2.contourArea, reverse = True)[0]\n",
    "            ((x, y), radius) = cv2.minEnclosingCircle(cnt)\n",
    "            cv2.circle(frame, (int(x), int(y)), int(radius), (0, 255, 255), 2)\n",
    "            cv2.circle(frame, center, 5, (0, 0, 255), -1)\n",
    "\n",
    "            M = cv2.moments(cnt)\n",
    "            center = (int(M['m10'] / M['m00']), int(M['m01'] / M['m00']))\n",
    "\n",
    "            points.appendleft(center)\n",
    "#             for i in range(1, len(pts)):\n",
    "#                 if pts[i - 1] is None or pts[i] is None:\n",
    "#                     continue\n",
    "#                 cv2.line(blackboard, pts[i - 1], pts[i], (255, 255, 255), 10)\n",
    "#                 cv2.line(img, pts[i - 1], pts[i], (0, 0, 255), 5)\n",
    "\n",
    "        elif len(cnts) == 0:\n",
    "            if len(points) != 0:\n",
    "                blackboard_gray = cv2.cvtColor(blackboard, cv2.COLOR_BGR2GRAY)\n",
    "                blur1 = cv2.medianBlur(blackboard_gray, 15)\n",
    "                blur1 = cv2.GaussianBlur(blur1, (5, 5), 0)\n",
    "                thresh1 = cv2.threshold(blur1, 0, 255, cv2.THRESH_BINARY + cv2.THRESH_OTSU)[1]\n",
    "                blackboard_cnts = cv2.findContours(thresh1.copy(), cv2.RETR_TREE, cv2.CHAIN_APPROX_NONE)[0]\n",
    "                if len(blackboard_cnts) >= 1:\n",
    "                    cnt = sorted(blackboard_cnts, key = cv2.contourArea, reverse = True)[0]\n",
    "\n",
    "                    if cv2.contourArea(cnt) > 1000:\n",
    "                        x, y, w, h = cv2.boundingRect(cnt)\n",
    "                        digit = blackboard_gray[y:y + h, x:x + w ]\n",
    "\n",
    "                        pred_probab, pred_class = keras_predict(model1,digit)\n",
    "                        print(pred_class, pred_probab)\n",
    "\n",
    "                        points = deque(maxlen=512)\n",
    "                        blackboard = np.zeros((480, 640, 3), dtype=np.uint8)\n",
    "\n",
    "              \n",
    "        for i in range(1, len(points)):\n",
    "            if points[i - 1] is None or points[i] is None:\n",
    "                continue\n",
    "            cv2.line(frame, points[i - 1], points[i], (0, 0, 0), 2)\n",
    "            cv2.line(blackboard, points[i - 1], points[i], (255, 255, 255), 8)\n",
    "\n",
    "        cv2.putText(frame, \"Conv Network : \" + str(letter_count[pred_class]), (10, 410), cv2.FONT_HERSHEY_SIMPLEX, 0.7,(255, 255, 255), 2)\n",
    "\n",
    "        cv2.imshow(\"alphabets Recognition Real Time\", frame)        \n",
    "    \n",
    "    \n",
    "\n",
    "        if cv2.waitKey(1) & 0xFF == ord(\"q\"):\n",
    "            break"
   ]
  },
  {
   "cell_type": "code",
   "execution_count": 10,
   "metadata": {},
   "outputs": [
    {
     "name": "stdout",
     "output_type": "stream",
     "text": [
      "processed: (1, 32, 32, 1)\n"
     ]
    },
    {
     "data": {
      "text/plain": [
       "'27_ra'"
      ]
     },
     "execution_count": 10,
     "metadata": {},
     "output_type": "execute_result"
    }
   ],
   "source": [
    "pred_probab, pred_class = keras_predict(model1, np.zeros((32, 32, 1), dtype=np.uint8))\n",
    "str(letter_count[pred_class])"
   ]
  },
  {
   "cell_type": "code",
   "execution_count": 11,
   "metadata": {},
   "outputs": [],
   "source": [
    "camera.release()"
   ]
  },
  {
   "cell_type": "code",
   "execution_count": 12,
   "metadata": {},
   "outputs": [],
   "source": []
  },
  {
   "cell_type": "code",
   "execution_count": null,
   "metadata": {},
   "outputs": [],
   "source": []
  },
  {
   "cell_type": "code",
   "execution_count": null,
   "metadata": {},
   "outputs": [],
   "source": []
  },
  {
   "cell_type": "code",
   "execution_count": null,
   "metadata": {},
   "outputs": [],
   "source": []
  },
  {
   "cell_type": "code",
   "execution_count": null,
   "metadata": {},
   "outputs": [],
   "source": []
  }
 ],
 "metadata": {
  "kernelspec": {
   "display_name": "Python 3",
   "language": "python",
   "name": "python3"
  },
  "language_info": {
   "codemirror_mode": {
    "name": "ipython",
    "version": 3
   },
   "file_extension": ".py",
   "mimetype": "text/x-python",
   "name": "python",
   "nbconvert_exporter": "python",
   "pygments_lexer": "ipython3",
   "version": "3.7.4"
  }
 },
 "nbformat": 4,
 "nbformat_minor": 2
}
